{
 "cells": [
  {
   "cell_type": "code",
   "execution_count": 5,
   "id": "6280010f",
   "metadata": {},
   "outputs": [
    {
     "data": {
      "text/plain": [
       "2"
      ]
     },
     "execution_count": 5,
     "metadata": {},
     "output_type": "execute_result"
    }
   ],
   "source": [
    "1+1"
   ]
  },
  {
   "cell_type": "code",
   "execution_count": 36,
   "id": "a2d96cf0",
   "metadata": {},
   "outputs": [
    {
     "data": {
      "text/plain": [
       "{'ResponseMetadata': {'RequestId': 'J8G40K5K49HA2KF8',\n",
       "  'HostId': '3IqXl5Wo69g2TH0LQFaM23sxgsxytex0E7shzZprrakKKmivqwClTYMyUAjURWHE7A7bctaDRQJTdWOPm0rSdDZ+89SLHzkv5Qvq2qN+/wc=',\n",
       "  'HTTPStatusCode': 200,\n",
       "  'HTTPHeaders': {'x-amz-id-2': '3IqXl5Wo69g2TH0LQFaM23sxgsxytex0E7shzZprrakKKmivqwClTYMyUAjURWHE7A7bctaDRQJTdWOPm0rSdDZ+89SLHzkv5Qvq2qN+/wc=',\n",
       "   'x-amz-request-id': 'J8G40K5K49HA2KF8',\n",
       "   'date': 'Thu, 02 Oct 2025 08:18:31 GMT',\n",
       "   'x-amz-server-side-encryption': 'AES256',\n",
       "   'etag': '\"b8e189917e1e12e5e34247f90db7834f\"',\n",
       "   'x-amz-checksum-crc32': 'Zt59aw==',\n",
       "   'x-amz-checksum-type': 'FULL_OBJECT',\n",
       "   'content-length': '0',\n",
       "   'server': 'AmazonS3'},\n",
       "  'RetryAttempts': 0},\n",
       " 'ETag': '\"b8e189917e1e12e5e34247f90db7834f\"',\n",
       " 'ChecksumCRC32': 'Zt59aw==',\n",
       " 'ChecksumType': 'FULL_OBJECT',\n",
       " 'ServerSideEncryption': 'AES256'}"
      ]
     },
     "execution_count": 36,
     "metadata": {},
     "output_type": "execute_result"
    }
   ],
   "source": [
    "import seaborn as sns\n",
    "import boto3\n",
    "from io import StringIO\n",
    "\n",
    "bucket = 'test-container-development'\n",
    "\n",
    "df = sns.load_dataset(\"tips\")\n",
    "csv_buffer = StringIO()\n",
    "df.to_csv(csv_buffer, index=False)\n",
    "\n",
    "s3_client = boto3.client(\"s3\")\n",
    "s3_client.put_object(\n",
    "    Bucket=bucket,\n",
    "    Key=\"input/data.csv\",\n",
    "    Body=csv_buffer.getvalue(),\n",
    "    ContentType=\"text/csv\",\n",
    ")"
   ]
  },
  {
   "cell_type": "code",
   "execution_count": 43,
   "id": "21e4de8c",
   "metadata": {},
   "outputs": [],
   "source": [
    "df.to_csv(\"./input/data.csv\", index=False)"
   ]
  },
  {
   "cell_type": "code",
   "execution_count": 37,
   "id": "27a77fb9",
   "metadata": {},
   "outputs": [],
   "source": [
    "# with open(\"./pyproject.toml\", \"r\") as f:\n",
    "#     s3_client.put_object(\n",
    "#         Bucket=bucket,\n",
    "#         Key=\"artifacts/pyproject.toml\",\n",
    "#         Body=f.read()\n",
    "#     )\n",
    "\n",
    "s3_client.upload_file(\"./pyproject.toml\", bucket, \"artifacts/pyproject.toml\")"
   ]
  },
  {
   "cell_type": "code",
   "execution_count": 38,
   "id": "ff3240ab",
   "metadata": {},
   "outputs": [],
   "source": [
    "# with open(\"./script.py\", \"r\") as f:\n",
    "#     s3_client.put_object(\n",
    "#         Bucket=bucket,\n",
    "#         Key=\"artifacts/script.py\",\n",
    "#         Body=f.read()\n",
    "#     )\n",
    "\n",
    "s3_client.upload_file(\"./script.py\", bucket, \"artifacts/script.py\")"
   ]
  },
  {
   "cell_type": "code",
   "execution_count": 39,
   "id": "0f48b27f",
   "metadata": {},
   "outputs": [],
   "source": [
    "from pathlib import Path\n",
    "import tarfile\n",
    "from io import BytesIO\n",
    "\n",
    "buffer = BytesIO()\n",
    "pkg_dir = Path(\"package\")\n",
    "output_file = f\"{pkg_dir.name}.tar.gz\"\n",
    "\n",
    "# with tarfile.open(output_file, 'w:gz') as tar:\n",
    "#     tar.add(pkg_dir, arcname=pkg_dir.name)"
   ]
  },
  {
   "cell_type": "code",
   "execution_count": 40,
   "id": "5acf7f7d",
   "metadata": {},
   "outputs": [],
   "source": [
    "with tarfile.open(fileobj=buffer, mode='w:gz') as tar:\n",
    "    tar.add(pkg_dir, arcname=pkg_dir.name)"
   ]
  },
  {
   "cell_type": "code",
   "execution_count": 41,
   "id": "ab40f434",
   "metadata": {},
   "outputs": [
    {
     "data": {
      "text/plain": [
       "0"
      ]
     },
     "execution_count": 41,
     "metadata": {},
     "output_type": "execute_result"
    }
   ],
   "source": [
    "buffer.seek(0)"
   ]
  },
  {
   "cell_type": "code",
   "execution_count": 42,
   "id": "06047ef1",
   "metadata": {},
   "outputs": [
    {
     "data": {
      "text/plain": [
       "{'ResponseMetadata': {'RequestId': '67RKTMWQG029QETZ',\n",
       "  'HostId': '9rBB2DnKs+QchhlZkuKcAbvbw8L7FKVAgty490/sT/MrrnJxrBAYZS+d83jBMloQkzuGLgqDBAJD4ccreqsuFTc4yJEQBBbX6DcUK14NUmc=',\n",
       "  'HTTPStatusCode': 200,\n",
       "  'HTTPHeaders': {'x-amz-id-2': '9rBB2DnKs+QchhlZkuKcAbvbw8L7FKVAgty490/sT/MrrnJxrBAYZS+d83jBMloQkzuGLgqDBAJD4ccreqsuFTc4yJEQBBbX6DcUK14NUmc=',\n",
       "   'x-amz-request-id': '67RKTMWQG029QETZ',\n",
       "   'date': 'Thu, 02 Oct 2025 08:18:33 GMT',\n",
       "   'x-amz-server-side-encryption': 'AES256',\n",
       "   'etag': '\"060c0b3bd2d6b8d272d41f65b43f4332\"',\n",
       "   'x-amz-checksum-crc32': 'z3BeaQ==',\n",
       "   'x-amz-checksum-type': 'FULL_OBJECT',\n",
       "   'content-length': '0',\n",
       "   'server': 'AmazonS3'},\n",
       "  'RetryAttempts': 0},\n",
       " 'ETag': '\"060c0b3bd2d6b8d272d41f65b43f4332\"',\n",
       " 'ChecksumCRC32': 'z3BeaQ==',\n",
       " 'ChecksumType': 'FULL_OBJECT',\n",
       " 'ServerSideEncryption': 'AES256'}"
      ]
     },
     "execution_count": 42,
     "metadata": {},
     "output_type": "execute_result"
    }
   ],
   "source": [
    "s3_client.put_object(\n",
    "    Bucket=bucket,\n",
    "    Key=\"artifacts/package.tar.gz\",\n",
    "    Body=buffer.getvalue(),\n",
    "    ContentType=\"application/gzip\"\n",
    ")"
   ]
  },
  {
   "cell_type": "code",
   "execution_count": null,
   "id": "f15437af",
   "metadata": {},
   "outputs": [],
   "source": []
  }
 ],
 "metadata": {
  "kernelspec": {
   "display_name": "dev",
   "language": "python",
   "name": "python3"
  },
  "language_info": {
   "codemirror_mode": {
    "name": "ipython",
    "version": 3
   },
   "file_extension": ".py",
   "mimetype": "text/x-python",
   "name": "python",
   "nbconvert_exporter": "python",
   "pygments_lexer": "ipython3",
   "version": "3.12.11"
  }
 },
 "nbformat": 4,
 "nbformat_minor": 5
}
